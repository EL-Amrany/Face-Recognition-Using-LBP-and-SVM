{
 "cells": [
  {
   "cell_type": "code",
   "execution_count": 21,
   "id": "ac356659",
   "metadata": {},
   "outputs": [],
   "source": [
    "import numpy as np\n",
    "import cv2\n",
    "import matplotlib\n",
    "from matplotlib import pyplot as plt\n"
   ]
  },
  {
   "cell_type": "markdown",
   "id": "840e636d",
   "metadata": {},
   "source": [
    "# LBP"
   ]
  },
  {
   "cell_type": "markdown",
   "id": "b7fa57a9",
   "metadata": {},
   "source": [
    "\n",
    "size=256\n",
    "\n",
    "\n",
    "def LBP(img): \n",
    "    \n",
    "    def thresholded(center, pixels):\n",
    "        out = []\n",
    "        for a in pixels:\n",
    "            if a >= center:\n",
    "                out.append(1)\n",
    "            else:\n",
    "                out.append(0)\n",
    "        return out\n",
    "\n",
    "    \n",
    "    def get_pixel_else_0(img,x,y):\n",
    "        size=len(img)\n",
    "        default=0\n",
    "        if x<0 or y<0 or x>size-1 or y>size-1 :\n",
    "            return default\n",
    "        else:\n",
    "            return img[x][y]\n",
    "\n",
    "\n",
    "\n",
    "\n",
    "    image=cv2.resize(img,(size,size))\n",
    "    temp=np.zeros((size,size),dtype=np.uint8)\n",
    "    for x in range(0, len(image)):\n",
    "        for y in range(0, len(image[0])):\n",
    " \n",
    "            center = image[x,y]\n",
    "\n",
    "            top_left      = get_pixel_else_0(image, x-1, y-1)\n",
    "\n",
    "            top_up        = get_pixel_else_0(image, x-1, y)\n",
    "\n",
    "            top_right     = get_pixel_else_0(image, x-1, y+1)\n",
    "\n",
    "            right         = get_pixel_else_0(image, x, y+1 )\n",
    "\n",
    "            left          = get_pixel_else_0(image, x, y-1 )\n",
    "\n",
    "            bottom_left   = get_pixel_else_0(image, x+1, y-1)\n",
    "\n",
    "            bottom_right  = get_pixel_else_0(image, x+1, y+1)\n",
    "\n",
    "            bottom_down   = get_pixel_else_0(image, x+1,   y )\n",
    "\n",
    "            values=[]\n",
    "            values = thresholded(center, [top_left, top_up, top_right, right, bottom_right,\n",
    "                                  bottom_down, bottom_left, left])\n",
    "\n",
    "            weights = [1, 2 , 4, 8 , 16 , 32, 64, 128]\n",
    "            res = 0\n",
    "            for a in range(0, len(values)):\n",
    "                res += weights[a] * values[a]\n",
    "\n",
    "            temp[x][y]=res\n",
    "\n",
    "    #_ = plt.hist(temp, bins=64)  \n",
    "    #plt.show()\n",
    "    hist, bin_edges = np.histogram(temp,bins=64)\n",
    "    \n",
    "    return hist"
   ]
  },
  {
   "cell_type": "markdown",
   "id": "d4999176",
   "metadata": {},
   "source": [
    "img=cv2.imread('./data/Cristiano Ronaldo/cri.jpg')\n",
    "gray=cv2.cvtColor(img,cv2.COLOR_BGR2GRAY )\n",
    "img_lbp=LBP(gray)\n"
   ]
  },
  {
   "cell_type": "code",
   "execution_count": 22,
   "id": "aa6c5d41",
   "metadata": {},
   "outputs": [],
   "source": [
    "from skimage.feature import local_binary_pattern"
   ]
  },
  {
   "cell_type": "code",
   "execution_count": 24,
   "id": "2310f382",
   "metadata": {},
   "outputs": [],
   "source": [
    "def LBP(path):\n",
    "    P = 8\n",
    "    R = 1\n",
    "    img=cv2.imread(path)\n",
    "    gray=cv2.cvtColor(img,cv2.COLOR_BGR2GRAY)\n",
    "    lbp_img = local_binary_pattern(gray, P=P, R=R, method=\"default\")\n",
    "    return lbp_img"
   ]
  },
  {
   "cell_type": "markdown",
   "id": "542402b5",
   "metadata": {},
   "source": [
    "# construire le matrices X constitué par les vecteurs caractéristiques des image de corpus"
   ]
  },
  {
   "cell_type": "code",
   "execution_count": 25,
   "id": "3939ed23",
   "metadata": {},
   "outputs": [],
   "source": [
    "\n",
    "from imutils import paths \n",
    "X, y = [], []\n",
    "for training_image in paths.list_images('C:\\\\Users\\\\Samir\\\\Desktop\\\\Samir_VA_Project\\\\croppedMostTrue'):\n",
    "       #just stop here to see all file names printed\n",
    "        path=training_image\n",
    "        lbp=LBP(path)\n",
    "        \n",
    "        img = cv2.imread(training_image)\n",
    "        if img is None:\n",
    "            continue\n",
    "            \n",
    "        scalled_raw_img=cv2.resize(img,(64,64))\n",
    "        scalled_img_lbp=cv2.resize(lbp,(64,64))\n",
    "        combined=np.vstack((scalled_raw_img.reshape(64*64*3,1),scalled_img_lbp.reshape(64*64,1)))\n",
    "        \n",
    "        X.append(combined)\n",
    "        y.append(training_image.split(\"\\\\\")[-2])  "
   ]
  },
  {
   "cell_type": "code",
   "execution_count": 26,
   "id": "4cf7876c",
   "metadata": {},
   "outputs": [
    {
     "data": {
      "text/plain": [
       "(2131, 16384)"
      ]
     },
     "execution_count": 26,
     "metadata": {},
     "output_type": "execute_result"
    }
   ],
   "source": [
    "len(X),len(X[0])"
   ]
  },
  {
   "cell_type": "code",
   "execution_count": null,
   "id": "d81485f1",
   "metadata": {},
   "outputs": [],
   "source": [
    "\n"
   ]
  },
  {
   "cell_type": "code",
   "execution_count": 27,
   "id": "53b32285",
   "metadata": {},
   "outputs": [
    {
     "data": {
      "text/plain": [
       "(2131, 16384)"
      ]
     },
     "execution_count": 27,
     "metadata": {},
     "output_type": "execute_result"
    }
   ],
   "source": [
    "X = np.array(X).reshape(len(X),16384)\n",
    "X.shape"
   ]
  },
  {
   "cell_type": "markdown",
   "id": "8b41fe67",
   "metadata": {},
   "source": [
    "#  optimiser entrainer et enregistrer le modèle"
   ]
  },
  {
   "cell_type": "code",
   "execution_count": 28,
   "id": "e14532f0",
   "metadata": {},
   "outputs": [],
   "source": [
    "from sklearn.pipeline import make_pipeline\n",
    "from sklearn.model_selection import GridSearchCV\n",
    "\n",
    "from sklearn.svm import SVC\n",
    "from sklearn.preprocessing import StandardScaler\n",
    "from sklearn.model_selection import train_test_split\n",
    "from sklearn.pipeline import Pipeline\n",
    "from sklearn.metrics import classification_report\n"
   ]
  },
  {
   "cell_type": "code",
   "execution_count": 29,
   "id": "626123d0",
   "metadata": {},
   "outputs": [],
   "source": [
    "X_train, X_test, y_train, y_test = train_test_split(X, y, random_state=0)"
   ]
  },
  {
   "cell_type": "code",
   "execution_count": 30,
   "id": "59b2e990",
   "metadata": {},
   "outputs": [
    {
     "data": {
      "text/plain": [
       "0.724202626641651"
      ]
     },
     "execution_count": 30,
     "metadata": {},
     "output_type": "execute_result"
    }
   ],
   "source": [
    "\n",
    "pipe = Pipeline([('scaler', StandardScaler()), ('svc', SVC(C=1, gamma='auto', kernel='linear', probability=True))])\n",
    "pipe.fit(X_train, y_train)\n",
    "pipe.score(X_test, y_test)"
   ]
  },
  {
   "cell_type": "code",
   "execution_count": 31,
   "id": "8010095c",
   "metadata": {},
   "outputs": [
    {
     "name": "stdout",
     "output_type": "stream",
     "text": [
      "                      precision    recall  f1-score   support\n",
      "\n",
      "Alessandro Del Piero       0.57      0.61      0.59        28\n",
      "     Andreas Iniesta       0.73      0.85      0.79        13\n",
      "   Andriy Shevchenko       0.63      0.78      0.70        46\n",
      "   Cristiano Ronaldo       0.65      0.87      0.75        47\n",
      "       Didier Drogba       0.69      0.39      0.50        23\n",
      "      Diego Maradona       0.73      0.85      0.79        13\n",
      "      Edinson Cavani       0.71      0.55      0.62        22\n",
      "     Francesco Totti       0.86      0.86      0.86        14\n",
      "     Gianlugi Buffon       0.67      0.60      0.63        10\n",
      "       Iker Casillas       0.78      0.81      0.79        31\n",
      "        Lionel Messi       0.92      0.73      0.81        45\n",
      "         Luka Modric       0.64      0.70      0.67        43\n",
      "       Mohamed Salah       0.97      0.94      0.95        31\n",
      "        Pavel Nedved       0.33      0.33      0.33         6\n",
      "                Pele       1.00      0.83      0.91        12\n",
      "         Riyan Giggs       0.94      0.88      0.91        17\n",
      "      Roberto Baggio       0.74      0.58      0.65        24\n",
      "      Roberto Carlos       0.69      0.73      0.71        33\n",
      "          Ronaldinho       0.68      0.59      0.63        22\n",
      "     Ronaldo Nazario       0.67      0.50      0.57        16\n",
      "          Samuel Eto       0.62      0.72      0.67        18\n",
      "  Zlatan Ibrahimovic       0.88      0.79      0.83        19\n",
      "\n",
      "            accuracy                           0.72       533\n",
      "           macro avg       0.73      0.70      0.71       533\n",
      "        weighted avg       0.73      0.72      0.72       533\n",
      "\n"
     ]
    }
   ],
   "source": [
    "print(classification_report(y_test, pipe.predict(X_test) ))"
   ]
  },
  {
   "cell_type": "code",
   "execution_count": 18,
   "id": "62ffcf12",
   "metadata": {},
   "outputs": [],
   "source": [
    "from sklearn import svm\n"
   ]
  },
  {
   "cell_type": "code",
   "execution_count": 19,
   "id": "4ea59328",
   "metadata": {},
   "outputs": [],
   "source": [
    "model_params = {\n",
    "    'svm': {\n",
    "        'model': svm.SVC(gamma='auto',probability=True),\n",
    "        'params' : {\n",
    "            'svc__C': [1,10,100,1000],\n",
    "            'svc__kernel': ['rbf','linear']\n",
    "        }  \n",
    "    }\n",
    "    \n",
    "}"
   ]
  },
  {
   "cell_type": "code",
   "execution_count": null,
   "id": "76e306b7",
   "metadata": {},
   "outputs": [],
   "source": [
    "scores = []\n",
    "best_estimators = {}\n",
    "import pandas as pd\n",
    "for algo, mp in model_params.items():\n",
    "    pipe = make_pipeline(StandardScaler(), mp['model'])\n",
    "    clf =  GridSearchCV(pipe, mp['params'], cv=5, return_train_score=False)\n",
    "    clf.fit(X_train, y_train)\n",
    "    scores.append({\n",
    "        'model': algo,\n",
    "        'best_score': clf.best_score_,\n",
    "        'best_params': clf.best_params_\n",
    "    })\n",
    "    best_estimators[algo] = clf.best_estimator_\n",
    "    \n",
    "df = pd.DataFrame(scores,columns=['model','best_score','best_params'])\n",
    "df"
   ]
  },
  {
   "cell_type": "code",
   "execution_count": null,
   "id": "bb18e498",
   "metadata": {},
   "outputs": [],
   "source": [
    "best_estimators"
   ]
  },
  {
   "cell_type": "code",
   "execution_count": null,
   "id": "dcce54e7",
   "metadata": {},
   "outputs": [],
   "source": [
    "best_estimators['svm'].score(X_test,y_test)"
   ]
  },
  {
   "cell_type": "markdown",
   "id": "d67150b7",
   "metadata": {},
   "source": [
    "# chercher les meilleures paramètres du modèle"
   ]
  },
  {
   "cell_type": "code",
   "execution_count": null,
   "id": "36e05203",
   "metadata": {},
   "outputs": [],
   "source": [
    "\n",
    "model=SVC(C=1, gamma='auto', kernel='linear', probability=True)\n",
    "model.fit(X_train, y_train)\n",
    "model.score(X_test, y_test)"
   ]
  },
  {
   "cell_type": "code",
   "execution_count": 46,
   "id": "60f91b59",
   "metadata": {},
   "outputs": [
    {
     "data": {
      "text/plain": [
       "<matplotlib.image.AxesImage at 0x1ae017699d0>"
      ]
     },
     "execution_count": 46,
     "metadata": {},
     "output_type": "execute_result"
    },
    {
     "data": {
      "image/png": "[encoded data removed]",
      "text/plain": [
       "<Figure size 432x288 with 1 Axes>"
      ]
     },
     "metadata": {
      "needs_background": "light"
     },
     "output_type": "display_data"
    }
   ],
   "source": [
    "test=cv2.imread('./croppedMostTrue/Andreas Iniesta/Andreas Iniesta3.png')\n",
    "plt.imshow(test)"
   ]
  },
  {
   "cell_type": "code",
   "execution_count": 48,
   "id": "27abb3a1",
   "metadata": {},
   "outputs": [
    {
     "data": {
      "text/plain": [
       "array(['Andreas Iniesta'], dtype='<U20')"
      ]
     },
     "execution_count": 48,
     "metadata": {},
     "output_type": "execute_result"
    }
   ],
   "source": [
    "img = cv2.imread('./croppedMostTrue/Andreas Iniesta/Andreas Iniesta3.png')\n",
    "if img is not None:\n",
    "    scalled_raw_img=cv2.resize(img,(64,64))\n",
    "    lbp=LBP(img)\n",
    "    scalled_img_lbp=cv2.resize(lbp,(64,64))\n",
    "    combined=np.vstack((scalled_raw_img.reshape(64*64*3,1),scalled_img_lbp.reshape(64*64,1)))\n",
    "    X = np.array(combined).reshape(1,16384).astype(float)\n",
    "    \n",
    "model.predict(X)\n"
   ]
  },
  {
   "cell_type": "code",
   "execution_count": 49,
   "id": "afeb562b",
   "metadata": {},
   "outputs": [],
   "source": [
    "import pickle\n",
    "import os\n",
    "def save_model(model, filename, path=\"\"): \n",
    "    with open(os.path.join(path, filename), 'wb') as out_name:\n",
    "        pickle.dump(model, out_name, pickle.HIGHEST_PROTOCOL)\n",
    "\n",
    "def read_model(filename, path=\"\"):\n",
    "    with open(os.path.join(path, filename), 'rb') as in_name:\n",
    "        model = pickle.load(in_name)\n",
    "        return model"
   ]
  },
  {
   "cell_type": "code",
   "execution_count": 50,
   "id": "53badefa",
   "metadata": {},
   "outputs": [],
   "source": [
    "save_model(model, \"Lbp_svm.pkl\", path=\"\")"
   ]
  },
  {
   "cell_type": "code",
   "execution_count": 51,
   "id": "9f4ab9ef",
   "metadata": {},
   "outputs": [],
   "source": [
    "lbph_svm_model_v2 = read_model(\"Lbp_svm.pkl\", path=\"\")"
   ]
  }
 ],
 "metadata": {
  "kernelspec": {
   "display_name": "Python 3 (ipykernel)",
   "language": "python",
   "name": "python3"
  },
  "language_info": {
   "codemirror_mode": {
    "name": "ipython",
    "version": 3
   },
   "file_extension": ".py",
   "mimetype": "text/x-python",
   "name": "python",
   "nbconvert_exporter": "python",
   "pygments_lexer": "ipython3",
   "version": "3.9.7"
  }
 },
 "nbformat": 4,
 "nbformat_minor": 5
}
